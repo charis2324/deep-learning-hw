{
  "nbformat": 4,
  "nbformat_minor": 0,
  "metadata": {
    "colab": {
      "provenance": [],
      "gpuType": "T4"
    },
    "kernelspec": {
      "name": "python3",
      "display_name": "Python 3"
    },
    "language_info": {
      "name": "python"
    },
    "accelerator": "GPU"
  },
  "cells": [
    {
      "cell_type": "code",
      "execution_count": 1,
      "metadata": {
        "colab": {
          "base_uri": "https://localhost:8080/"
        },
        "id": "-0N73nqmeCy8",
        "outputId": "e0cfa871-2b5c-4801-8865-228230005d39"
      },
      "outputs": [
        {
          "output_type": "stream",
          "name": "stdout",
          "text": [
            "Num GPUs Available:  1\n"
          ]
        }
      ],
      "source": [
        "import tensorflow as tf\n",
        "import numpy as np\n",
        "print(\"Num GPUs Available: \", len(tf.config.list_physical_devices('GPU')))"
      ]
    },
    {
      "cell_type": "code",
      "source": [
        "from tensorflow.keras.datasets import cifar10\n",
        "\n",
        "batch_size = 512\n",
        "epochs = 50\n",
        "num_class = 10\n",
        "\n",
        "(x_train, y_train), (x_test, y_test) = cifar10.load_data()\n",
        "x_train = x_train / 255.0\n",
        "x_test = x_test / 255.0\n",
        "\n",
        "x_valid = x_train[:10000]\n",
        "y_valid = y_train[:10000]\n",
        "\n",
        "x_train = x_train[10000:]\n",
        "y_train = y_train[10000:]\n"
      ],
      "metadata": {
        "id": "PgZ84ziheLMY"
      },
      "execution_count": 11,
      "outputs": []
    },
    {
      "cell_type": "code",
      "source": [
        "from tensorflow.keras.models import Sequential\n",
        "from tensorflow.keras.layers import Dense, Flatten, Dropout, BatchNormalization, Activation\n",
        "from tensorflow.keras.layers import Conv2D, MaxPooling2D\n",
        "from tensorflow.keras.optimizers import Adam\n",
        "from tensorflow.keras.losses import SparseCategoricalCrossentropy\n",
        "\n",
        "model = Sequential()\n",
        "model.add(Conv2D(32, (3, 3), padding='same'))\n",
        "model.add(BatchNormalization())\n",
        "model.add(Activation('relu'))\n",
        "model.add(Conv2D(32, (3, 3)))\n",
        "model.add(BatchNormalization())\n",
        "model.add(Activation('relu'))\n",
        "model.add(MaxPooling2D(pool_size=(2, 2)))\n",
        "model.add(Dropout(0.25))\n",
        "\n",
        "model.add(Conv2D(64, (3, 3), padding='same'))\n",
        "model.add(BatchNormalization())\n",
        "model.add(Activation('relu'))\n",
        "model.add(Conv2D(64, (3, 3)))\n",
        "model.add(BatchNormalization())\n",
        "model.add(Activation('relu'))\n",
        "model.add(MaxPooling2D(pool_size=(2, 2)))\n",
        "model.add(Dropout(0.25))\n",
        "\n",
        "model.add(Flatten())\n",
        "model.add(Dense(512))\n",
        "model.add(BatchNormalization())\n",
        "model.add(Activation('relu'))\n",
        "model.add(Dropout(0.5))\n",
        "model.add(Dense(10, activation='softmax'))\n",
        "\n",
        "model.build((None, 32, 32, 3))\n",
        "model.compile(optimizer=Adam(), loss=SparseCategoricalCrossentropy(),  metrics=['accuracy'])\n",
        "model.summary()"
      ],
      "metadata": {
        "colab": {
          "base_uri": "https://localhost:8080/"
        },
        "id": "KQTajVDbePX3",
        "outputId": "640c2a9d-7fff-482f-9959-a30f4a203de7"
      },
      "execution_count": 20,
      "outputs": [
        {
          "output_type": "stream",
          "name": "stdout",
          "text": [
            "Model: \"sequential_6\"\n",
            "_________________________________________________________________\n",
            " Layer (type)                Output Shape              Param #   \n",
            "=================================================================\n",
            " conv2d_24 (Conv2D)          (None, 32, 32, 32)        896       \n",
            "                                                                 \n",
            " batch_normalization (Batch  (None, 32, 32, 32)        128       \n",
            " Normalization)                                                  \n",
            "                                                                 \n",
            " activation (Activation)     (None, 32, 32, 32)        0         \n",
            "                                                                 \n",
            " conv2d_25 (Conv2D)          (None, 30, 30, 32)        9248      \n",
            "                                                                 \n",
            " batch_normalization_1 (Bat  (None, 30, 30, 32)        128       \n",
            " chNormalization)                                                \n",
            "                                                                 \n",
            " activation_1 (Activation)   (None, 30, 30, 32)        0         \n",
            "                                                                 \n",
            " max_pooling2d_12 (MaxPooli  (None, 15, 15, 32)        0         \n",
            " ng2D)                                                           \n",
            "                                                                 \n",
            " dropout_6 (Dropout)         (None, 15, 15, 32)        0         \n",
            "                                                                 \n",
            " conv2d_26 (Conv2D)          (None, 15, 15, 64)        18496     \n",
            "                                                                 \n",
            " batch_normalization_2 (Bat  (None, 15, 15, 64)        256       \n",
            " chNormalization)                                                \n",
            "                                                                 \n",
            " activation_2 (Activation)   (None, 15, 15, 64)        0         \n",
            "                                                                 \n",
            " conv2d_27 (Conv2D)          (None, 13, 13, 64)        36928     \n",
            "                                                                 \n",
            " batch_normalization_3 (Bat  (None, 13, 13, 64)        256       \n",
            " chNormalization)                                                \n",
            "                                                                 \n",
            " activation_3 (Activation)   (None, 13, 13, 64)        0         \n",
            "                                                                 \n",
            " max_pooling2d_13 (MaxPooli  (None, 6, 6, 64)          0         \n",
            " ng2D)                                                           \n",
            "                                                                 \n",
            " dropout_7 (Dropout)         (None, 6, 6, 64)          0         \n",
            "                                                                 \n",
            " flatten_6 (Flatten)         (None, 2304)              0         \n",
            "                                                                 \n",
            " dense_12 (Dense)            (None, 512)               1180160   \n",
            "                                                                 \n",
            " batch_normalization_4 (Bat  (None, 512)               2048      \n",
            " chNormalization)                                                \n",
            "                                                                 \n",
            " activation_4 (Activation)   (None, 512)               0         \n",
            "                                                                 \n",
            " dropout_8 (Dropout)         (None, 512)               0         \n",
            "                                                                 \n",
            " dense_13 (Dense)            (None, 10)                5130      \n",
            "                                                                 \n",
            "=================================================================\n",
            "Total params: 1253674 (4.78 MB)\n",
            "Trainable params: 1252266 (4.78 MB)\n",
            "Non-trainable params: 1408 (5.50 KB)\n",
            "_________________________________________________________________\n"
          ]
        }
      ]
    },
    {
      "cell_type": "code",
      "source": [
        "from keras.callbacks import EarlyStopping\n",
        "\n",
        "early_stopping = EarlyStopping(monitor='val_accuracy', patience=2, restore_best_weights=True)\n",
        "\n",
        "history = model.fit(x_train, y_train, batch_size = batch_size, epochs = epochs, validation_data=(x_valid, y_valid), callbacks=[early_stopping])"
      ],
      "metadata": {
        "colab": {
          "base_uri": "https://localhost:8080/"
        },
        "id": "8HPbwMAbeRDd",
        "outputId": "73060d43-8ee8-4744-db18-ba3effaa9c31"
      },
      "execution_count": 21,
      "outputs": [
        {
          "output_type": "stream",
          "name": "stdout",
          "text": [
            "Epoch 1/50\n",
            "79/79 [==============================] - 28s 76ms/step - loss: 1.7570 - accuracy: 0.4012 - val_loss: 3.5949 - val_accuracy: 0.1032\n",
            "Epoch 2/50\n",
            "79/79 [==============================] - 5s 64ms/step - loss: 1.2806 - accuracy: 0.5419 - val_loss: 4.3106 - val_accuracy: 0.1032\n",
            "Epoch 3/50\n",
            "79/79 [==============================] - 5s 62ms/step - loss: 1.0944 - accuracy: 0.6122 - val_loss: 4.1355 - val_accuracy: 0.1091\n",
            "Epoch 4/50\n",
            "79/79 [==============================] - 5s 63ms/step - loss: 0.9771 - accuracy: 0.6544 - val_loss: 3.0496 - val_accuracy: 0.2538\n",
            "Epoch 5/50\n",
            "79/79 [==============================] - 5s 64ms/step - loss: 0.8836 - accuracy: 0.6843 - val_loss: 2.1150 - val_accuracy: 0.4047\n",
            "Epoch 6/50\n",
            "79/79 [==============================] - 5s 62ms/step - loss: 0.8196 - accuracy: 0.7100 - val_loss: 1.4026 - val_accuracy: 0.5493\n",
            "Epoch 7/50\n",
            "79/79 [==============================] - 5s 64ms/step - loss: 0.7637 - accuracy: 0.7304 - val_loss: 0.9907 - val_accuracy: 0.6621\n",
            "Epoch 8/50\n",
            "79/79 [==============================] - 5s 63ms/step - loss: 0.7284 - accuracy: 0.7400 - val_loss: 0.9441 - val_accuracy: 0.6725\n",
            "Epoch 9/50\n",
            "79/79 [==============================] - 5s 63ms/step - loss: 0.6919 - accuracy: 0.7568 - val_loss: 0.8662 - val_accuracy: 0.6956\n",
            "Epoch 10/50\n",
            "79/79 [==============================] - 5s 65ms/step - loss: 0.6583 - accuracy: 0.7679 - val_loss: 0.8258 - val_accuracy: 0.7157\n",
            "Epoch 11/50\n",
            "79/79 [==============================] - 5s 64ms/step - loss: 0.6247 - accuracy: 0.7796 - val_loss: 0.7685 - val_accuracy: 0.7290\n",
            "Epoch 12/50\n",
            "79/79 [==============================] - 5s 63ms/step - loss: 0.5967 - accuracy: 0.7912 - val_loss: 0.8446 - val_accuracy: 0.7187\n",
            "Epoch 13/50\n",
            "79/79 [==============================] - 5s 65ms/step - loss: 0.5742 - accuracy: 0.7971 - val_loss: 0.7213 - val_accuracy: 0.7487\n",
            "Epoch 14/50\n",
            "79/79 [==============================] - 5s 63ms/step - loss: 0.5460 - accuracy: 0.8053 - val_loss: 0.7608 - val_accuracy: 0.7352\n",
            "Epoch 15/50\n",
            "79/79 [==============================] - 5s 64ms/step - loss: 0.5291 - accuracy: 0.8133 - val_loss: 0.6168 - val_accuracy: 0.7855\n",
            "Epoch 16/50\n",
            "79/79 [==============================] - 5s 65ms/step - loss: 0.5028 - accuracy: 0.8226 - val_loss: 0.6079 - val_accuracy: 0.7880\n",
            "Epoch 17/50\n",
            "79/79 [==============================] - 5s 63ms/step - loss: 0.4845 - accuracy: 0.8278 - val_loss: 0.5990 - val_accuracy: 0.7917\n",
            "Epoch 18/50\n",
            "79/79 [==============================] - 5s 64ms/step - loss: 0.4671 - accuracy: 0.8372 - val_loss: 0.7167 - val_accuracy: 0.7597\n",
            "Epoch 19/50\n",
            "79/79 [==============================] - 5s 65ms/step - loss: 0.4570 - accuracy: 0.8381 - val_loss: 0.7297 - val_accuracy: 0.7589\n"
          ]
        }
      ]
    },
    {
      "cell_type": "code",
      "source": [
        "model.save(\"cnn_bn.h5\")"
      ],
      "metadata": {
        "colab": {
          "base_uri": "https://localhost:8080/"
        },
        "id": "DLYUec3sghmq",
        "outputId": "acb3cf59-831f-4586-f69e-1b4a93382e19"
      },
      "execution_count": 23,
      "outputs": [
        {
          "output_type": "stream",
          "name": "stderr",
          "text": [
            "/usr/local/lib/python3.10/dist-packages/keras/src/engine/training.py:3079: UserWarning: You are saving your model as an HDF5 file via `model.save()`. This file format is considered legacy. We recommend using instead the native Keras format, e.g. `model.save('my_model.keras')`.\n",
            "  saving_api.save_model(\n"
          ]
        }
      ]
    },
    {
      "cell_type": "code",
      "source": [
        "pred = model.evaluate(x_test, y_test)\n",
        "print(f\"Test Accuracy: {100 * pred[1]:.2f}%\")"
      ],
      "metadata": {
        "colab": {
          "base_uri": "https://localhost:8080/"
        },
        "id": "wH3v0jLVgvZx",
        "outputId": "7f881fbb-2056-428c-dcb7-6c5e98a2131e"
      },
      "execution_count": 22,
      "outputs": [
        {
          "output_type": "stream",
          "name": "stdout",
          "text": [
            "313/313 [==============================] - 2s 5ms/step - loss: 0.6007 - accuracy: 0.7971\n",
            "Test Accuracy: 79.71%\n"
          ]
        }
      ]
    }
  ]
}